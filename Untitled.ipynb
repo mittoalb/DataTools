{
 "cells": [
  {
   "cell_type": "code",
   "execution_count": 1,
   "id": "a2c6a197-0183-4fd2-b97c-1fc398a87fd1",
   "metadata": {},
   "outputs": [],
   "source": [
    "import DataTools as dt"
   ]
  },
  {
   "cell_type": "code",
   "execution_count": null,
   "id": "1889be4b-50ff-4909-bf45-3103627dc265",
   "metadata": {},
   "outputs": [],
   "source": []
  }
 ],
 "metadata": {
  "kernelspec": {
   "display_name": "dev",
   "language": "python",
   "name": "dev"
  },
  "language_info": {
   "codemirror_mode": {
    "name": "ipython",
    "version": 3
   },
   "file_extension": ".py",
   "mimetype": "text/x-python",
   "name": "python",
   "nbconvert_exporter": "python",
   "pygments_lexer": "ipython3",
   "version": "3.13.1"
  }
 },
 "nbformat": 4,
 "nbformat_minor": 5
}
